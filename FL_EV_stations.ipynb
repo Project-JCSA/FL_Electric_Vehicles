{
 "cells": [
  {
   "cell_type": "code",
   "execution_count": 1,
   "metadata": {},
   "outputs": [],
   "source": [
    "# Dependencies\n",
    "import matplotlib.pyplot as plt\n",
    "import requests\n",
    "import json\n",
    "import pandas as pd\n",
    "import csv\n",
    "import datetime\n",
    "from datetime import date, timedelta"
   ]
  },
  {
   "cell_type": "code",
   "execution_count": 2,
   "metadata": {
    "scrolled": true
   },
   "outputs": [],
   "source": [
    "#path to datafiles\n",
    "stat_url =  \"static/data/fl_ev_stations.csv\"\n",
    "stat_df = pd.read_csv(stat_url)"
   ]
  },
  {
   "cell_type": "code",
   "execution_count": 3,
   "metadata": {},
   "outputs": [
    {
     "output_type": "execute_result",
     "data": {
      "text/plain": [
       "  Fuel Type Code         Station Name            Street Address   Latitude  \\\n",
       "0           ELEC      OUC RELIABLE 01     100 W Anderson Street  28.535975   \n",
       "1           ELEC     OUC OC BARNETT 1        4801 W Colonial Dr  28.560572   \n",
       "2           ELEC   OUC OC MARKS ST 01             99 E Marks St  28.556879   \n",
       "3           ELEC      OUC OUC OCCC 03  9899 International Drive  28.429015   \n",
       "4           ELEC  OUC OC W LIBRARY 01           5151 Raleigh St  28.528024   \n",
       "\n",
       "   Longitude Open Date    ZIP  \n",
       "0 -81.379663       NaN  32801  \n",
       "1 -81.441748       NaN  32808  \n",
       "2 -81.377632       NaN  32803  \n",
       "3 -81.458938       NaN  32819  \n",
       "4 -81.447740       NaN  32811  "
      ],
      "text/html": "<div>\n<style scoped>\n    .dataframe tbody tr th:only-of-type {\n        vertical-align: middle;\n    }\n\n    .dataframe tbody tr th {\n        vertical-align: top;\n    }\n\n    .dataframe thead th {\n        text-align: right;\n    }\n</style>\n<table border=\"1\" class=\"dataframe\">\n  <thead>\n    <tr style=\"text-align: right;\">\n      <th></th>\n      <th>Fuel Type Code</th>\n      <th>Station Name</th>\n      <th>Street Address</th>\n      <th>Latitude</th>\n      <th>Longitude</th>\n      <th>Open Date</th>\n      <th>ZIP</th>\n    </tr>\n  </thead>\n  <tbody>\n    <tr>\n      <th>0</th>\n      <td>ELEC</td>\n      <td>OUC RELIABLE 01</td>\n      <td>100 W Anderson Street</td>\n      <td>28.535975</td>\n      <td>-81.379663</td>\n      <td>NaN</td>\n      <td>32801</td>\n    </tr>\n    <tr>\n      <th>1</th>\n      <td>ELEC</td>\n      <td>OUC OC BARNETT 1</td>\n      <td>4801 W Colonial Dr</td>\n      <td>28.560572</td>\n      <td>-81.441748</td>\n      <td>NaN</td>\n      <td>32808</td>\n    </tr>\n    <tr>\n      <th>2</th>\n      <td>ELEC</td>\n      <td>OUC OC MARKS ST 01</td>\n      <td>99 E Marks St</td>\n      <td>28.556879</td>\n      <td>-81.377632</td>\n      <td>NaN</td>\n      <td>32803</td>\n    </tr>\n    <tr>\n      <th>3</th>\n      <td>ELEC</td>\n      <td>OUC OUC OCCC 03</td>\n      <td>9899 International Drive</td>\n      <td>28.429015</td>\n      <td>-81.458938</td>\n      <td>NaN</td>\n      <td>32819</td>\n    </tr>\n    <tr>\n      <th>4</th>\n      <td>ELEC</td>\n      <td>OUC OC W LIBRARY 01</td>\n      <td>5151 Raleigh St</td>\n      <td>28.528024</td>\n      <td>-81.447740</td>\n      <td>NaN</td>\n      <td>32811</td>\n    </tr>\n  </tbody>\n</table>\n</div>"
     },
     "metadata": {},
     "execution_count": 3
    }
   ],
   "source": [
    "#remove unecessary columns\n",
    "stat_df = stat_df[['Fuel Type Code', 'Station Name', 'Street Address','Latitude', 'Longitude', 'Open Date', 'ZIP']]\n",
    "stat_df.head()"
   ]
  },
  {
   "cell_type": "code",
   "execution_count": 4,
   "metadata": {
    "scrolled": false
   },
   "outputs": [
    {
     "output_type": "execute_result",
     "data": {
      "text/plain": [
       "   Fuel Type Code                                     Station Name  \\\n",
       "6            ELEC  City of Delray Beach - Banker's Row Parking Lot   \n",
       "8            ELEC                                   Firkins Nissan   \n",
       "9            ELEC                                      Maus Nissan   \n",
       "10           ELEC                                    Deland Nissan   \n",
       "11           ELEC                                    Delray Nissan   \n",
       "\n",
       "          Street Address   Latitude  Longitude  Open Date    ZIP  \n",
       "6         200 NE 1st Ave  26.465314 -80.072190  6/15/2011  33444  \n",
       "8       1611 Cortez Rd W  27.462023 -82.578036  3/15/2011  34207  \n",
       "9    937 S Suncoast Blvd  28.848733 -82.579470  3/15/2011  34448  \n",
       "10  2600 S Woodland Blvd  28.983689 -81.300079  3/15/2011  32720  \n",
       "11    2200 S Federal Hwy  26.435016 -80.072333  3/15/2011  33483  "
      ],
      "text/html": "<div>\n<style scoped>\n    .dataframe tbody tr th:only-of-type {\n        vertical-align: middle;\n    }\n\n    .dataframe tbody tr th {\n        vertical-align: top;\n    }\n\n    .dataframe thead th {\n        text-align: right;\n    }\n</style>\n<table border=\"1\" class=\"dataframe\">\n  <thead>\n    <tr style=\"text-align: right;\">\n      <th></th>\n      <th>Fuel Type Code</th>\n      <th>Station Name</th>\n      <th>Street Address</th>\n      <th>Latitude</th>\n      <th>Longitude</th>\n      <th>Open Date</th>\n      <th>ZIP</th>\n    </tr>\n  </thead>\n  <tbody>\n    <tr>\n      <th>6</th>\n      <td>ELEC</td>\n      <td>City of Delray Beach - Banker's Row Parking Lot</td>\n      <td>200 NE 1st Ave</td>\n      <td>26.465314</td>\n      <td>-80.072190</td>\n      <td>6/15/2011</td>\n      <td>33444</td>\n    </tr>\n    <tr>\n      <th>8</th>\n      <td>ELEC</td>\n      <td>Firkins Nissan</td>\n      <td>1611 Cortez Rd W</td>\n      <td>27.462023</td>\n      <td>-82.578036</td>\n      <td>3/15/2011</td>\n      <td>34207</td>\n    </tr>\n    <tr>\n      <th>9</th>\n      <td>ELEC</td>\n      <td>Maus Nissan</td>\n      <td>937 S Suncoast Blvd</td>\n      <td>28.848733</td>\n      <td>-82.579470</td>\n      <td>3/15/2011</td>\n      <td>34448</td>\n    </tr>\n    <tr>\n      <th>10</th>\n      <td>ELEC</td>\n      <td>Deland Nissan</td>\n      <td>2600 S Woodland Blvd</td>\n      <td>28.983689</td>\n      <td>-81.300079</td>\n      <td>3/15/2011</td>\n      <td>32720</td>\n    </tr>\n    <tr>\n      <th>11</th>\n      <td>ELEC</td>\n      <td>Delray Nissan</td>\n      <td>2200 S Federal Hwy</td>\n      <td>26.435016</td>\n      <td>-80.072333</td>\n      <td>3/15/2011</td>\n      <td>33483</td>\n    </tr>\n  </tbody>\n</table>\n</div>"
     },
     "metadata": {},
     "execution_count": 4
    }
   ],
   "source": [
    "#drop rows with empty Values (NaN)\n",
    "stat_df = stat_df.dropna()\n",
    "stat_df.head()"
   ]
  },
  {
   "cell_type": "code",
   "execution_count": 5,
   "metadata": {},
   "outputs": [
    {
     "output_type": "execute_result",
     "data": {
      "text/plain": [
       "   Fuel Type Code                                     Station Name  \\\n",
       "6            ELEC  City of Delray Beach - Banker's Row Parking Lot   \n",
       "8            ELEC                                   Firkins Nissan   \n",
       "9            ELEC                                      Maus Nissan   \n",
       "10           ELEC                                    Deland Nissan   \n",
       "11           ELEC                                    Delray Nissan   \n",
       "\n",
       "          Street Address   Latitude  Longitude  Open Date    ZIP  \n",
       "6         200 NE 1st Ave  26.465314 -80.072190 2011-06-15  33444  \n",
       "8       1611 Cortez Rd W  27.462023 -82.578036 2011-03-15  34207  \n",
       "9    937 S Suncoast Blvd  28.848733 -82.579470 2011-03-15  34448  \n",
       "10  2600 S Woodland Blvd  28.983689 -81.300079 2011-03-15  32720  \n",
       "11    2200 S Federal Hwy  26.435016 -80.072333 2011-03-15  33483  "
      ],
      "text/html": "<div>\n<style scoped>\n    .dataframe tbody tr th:only-of-type {\n        vertical-align: middle;\n    }\n\n    .dataframe tbody tr th {\n        vertical-align: top;\n    }\n\n    .dataframe thead th {\n        text-align: right;\n    }\n</style>\n<table border=\"1\" class=\"dataframe\">\n  <thead>\n    <tr style=\"text-align: right;\">\n      <th></th>\n      <th>Fuel Type Code</th>\n      <th>Station Name</th>\n      <th>Street Address</th>\n      <th>Latitude</th>\n      <th>Longitude</th>\n      <th>Open Date</th>\n      <th>ZIP</th>\n    </tr>\n  </thead>\n  <tbody>\n    <tr>\n      <th>6</th>\n      <td>ELEC</td>\n      <td>City of Delray Beach - Banker's Row Parking Lot</td>\n      <td>200 NE 1st Ave</td>\n      <td>26.465314</td>\n      <td>-80.072190</td>\n      <td>2011-06-15</td>\n      <td>33444</td>\n    </tr>\n    <tr>\n      <th>8</th>\n      <td>ELEC</td>\n      <td>Firkins Nissan</td>\n      <td>1611 Cortez Rd W</td>\n      <td>27.462023</td>\n      <td>-82.578036</td>\n      <td>2011-03-15</td>\n      <td>34207</td>\n    </tr>\n    <tr>\n      <th>9</th>\n      <td>ELEC</td>\n      <td>Maus Nissan</td>\n      <td>937 S Suncoast Blvd</td>\n      <td>28.848733</td>\n      <td>-82.579470</td>\n      <td>2011-03-15</td>\n      <td>34448</td>\n    </tr>\n    <tr>\n      <th>10</th>\n      <td>ELEC</td>\n      <td>Deland Nissan</td>\n      <td>2600 S Woodland Blvd</td>\n      <td>28.983689</td>\n      <td>-81.300079</td>\n      <td>2011-03-15</td>\n      <td>32720</td>\n    </tr>\n    <tr>\n      <th>11</th>\n      <td>ELEC</td>\n      <td>Delray Nissan</td>\n      <td>2200 S Federal Hwy</td>\n      <td>26.435016</td>\n      <td>-80.072333</td>\n      <td>2011-03-15</td>\n      <td>33483</td>\n    </tr>\n  </tbody>\n</table>\n</div>"
     },
     "metadata": {},
     "execution_count": 5
    }
   ],
   "source": [
    "#change datatype on zip column & Open Date column\n",
    "stat_df['ZIP'] = stat_df['ZIP'].astype(int)\n",
    "stat_df['Open Date'] =pd.to_datetime(stat_df['Open Date'])\n",
    "stat_df.head()"
   ]
  },
  {
   "cell_type": "code",
   "execution_count": 6,
   "metadata": {},
   "outputs": [],
   "source": [
    "#import Zip code to county Date to merge it with main DF\n",
    "zip_df = \"static/data/ZIP-COUNTY-FIPS_2018-03.csv\"\n",
    "zip_df = pd.read_csv(zip_df)"
   ]
  },
  {
   "cell_type": "code",
   "execution_count": 7,
   "metadata": {
    "scrolled": true
   },
   "outputs": [
    {
     "output_type": "execute_result",
     "data": {
      "text/plain": [
       "     ZIP      COUNTYNAME\n",
       "0  36091  Autauga County\n",
       "1  36758  Autauga County\n",
       "2  36006  Autauga County\n",
       "3  36067  Autauga County\n",
       "4  36701  Autauga County"
      ],
      "text/html": "<div>\n<style scoped>\n    .dataframe tbody tr th:only-of-type {\n        vertical-align: middle;\n    }\n\n    .dataframe tbody tr th {\n        vertical-align: top;\n    }\n\n    .dataframe thead th {\n        text-align: right;\n    }\n</style>\n<table border=\"1\" class=\"dataframe\">\n  <thead>\n    <tr style=\"text-align: right;\">\n      <th></th>\n      <th>ZIP</th>\n      <th>COUNTYNAME</th>\n    </tr>\n  </thead>\n  <tbody>\n    <tr>\n      <th>0</th>\n      <td>36091</td>\n      <td>Autauga County</td>\n    </tr>\n    <tr>\n      <th>1</th>\n      <td>36758</td>\n      <td>Autauga County</td>\n    </tr>\n    <tr>\n      <th>2</th>\n      <td>36006</td>\n      <td>Autauga County</td>\n    </tr>\n    <tr>\n      <th>3</th>\n      <td>36067</td>\n      <td>Autauga County</td>\n    </tr>\n    <tr>\n      <th>4</th>\n      <td>36701</td>\n      <td>Autauga County</td>\n    </tr>\n  </tbody>\n</table>\n</div>"
     },
     "metadata": {},
     "execution_count": 7
    }
   ],
   "source": [
    "#remove unecessary columns\n",
    "zip_df = zip_df[['ZIP', 'COUNTYNAME']]\n",
    "zip_df.head()"
   ]
  },
  {
   "cell_type": "code",
   "execution_count": 8,
   "metadata": {},
   "outputs": [
    {
     "output_type": "execute_result",
     "data": {
      "text/plain": [
       "    Fuel Type Code                                       Station Name  \\\n",
       "645           ELEC  La Quinta Inn by Wyndham Gainesville - Tesla D...   \n",
       "630           ELEC                          Hampton Inn - Gainesville   \n",
       "205           ELEC                              Magnolia Parke Square   \n",
       "629           ELEC            Butler Town Center - Tesla Supercharger   \n",
       "628           ELEC  Fairfield Inn & Suites Gainesville - Tesla Des...   \n",
       "..             ...                                                ...   \n",
       "691           ELEC                           Best Western - Niceville   \n",
       "693           ELEC           Holiday Inn Express & Suites - Niceville   \n",
       "415           ELEC        TOPSL Commercial Center - Tesla Destination   \n",
       "411           ELEC  Residence Inn Marriott Sandestin at Grand Boul...   \n",
       "433           ELEC  Hilton Garden Inn Fort Walton Beach - Tesla De...   \n",
       "\n",
       "                    Street Address   Latitude  Longitude  Open Date    ZIP  \\\n",
       "645                920 NW 69th Ter  29.661692 -82.417592 2019-09-30  32605   \n",
       "630              4225 SW 40th Blvd  29.614982 -82.382567 2020-11-13  32608   \n",
       "205   NW 39th Pl and NW 48 Terrace  29.689550 -82.395100 2015-03-01  32606   \n",
       "629  3217 Southwest 35th Boulevard  29.624400 -82.376800 2019-09-30  32608   \n",
       "628              3877 SW 37th Blvd  29.618709 -82.378398 2019-03-01  32608   \n",
       "..                             ...        ...        ...        ...    ...   \n",
       "691                106 Bayshore Dr  30.520782 -86.490488 2020-11-13  32578   \n",
       "693           410 W John Sims Pkwy  30.522455 -86.501382 2020-11-17  32578   \n",
       "415        8955 Emerald Coast Pkwy  30.377886 -86.325616 2020-11-03  32550   \n",
       "411                 300 Grand Blvd  30.379551 -86.318439 2017-09-01  32550   \n",
       "433     1297 Miracle Strip Pkwy SE  30.395194 -86.597456 2018-11-01  36548   \n",
       "\n",
       "            COUNTYNAME  \n",
       "645     Alachua County  \n",
       "630     Alachua County  \n",
       "205     Alachua County  \n",
       "629     Alachua County  \n",
       "628     Alachua County  \n",
       "..                 ...  \n",
       "691      Walton County  \n",
       "693      Walton County  \n",
       "415      Walton County  \n",
       "411      Walton County  \n",
       "433  Washington County  \n",
       "\n",
       "[726 rows x 8 columns]"
      ],
      "text/html": "<div>\n<style scoped>\n    .dataframe tbody tr th:only-of-type {\n        vertical-align: middle;\n    }\n\n    .dataframe tbody tr th {\n        vertical-align: top;\n    }\n\n    .dataframe thead th {\n        text-align: right;\n    }\n</style>\n<table border=\"1\" class=\"dataframe\">\n  <thead>\n    <tr style=\"text-align: right;\">\n      <th></th>\n      <th>Fuel Type Code</th>\n      <th>Station Name</th>\n      <th>Street Address</th>\n      <th>Latitude</th>\n      <th>Longitude</th>\n      <th>Open Date</th>\n      <th>ZIP</th>\n      <th>COUNTYNAME</th>\n    </tr>\n  </thead>\n  <tbody>\n    <tr>\n      <th>645</th>\n      <td>ELEC</td>\n      <td>La Quinta Inn by Wyndham Gainesville - Tesla D...</td>\n      <td>920 NW 69th Ter</td>\n      <td>29.661692</td>\n      <td>-82.417592</td>\n      <td>2019-09-30</td>\n      <td>32605</td>\n      <td>Alachua County</td>\n    </tr>\n    <tr>\n      <th>630</th>\n      <td>ELEC</td>\n      <td>Hampton Inn - Gainesville</td>\n      <td>4225 SW 40th Blvd</td>\n      <td>29.614982</td>\n      <td>-82.382567</td>\n      <td>2020-11-13</td>\n      <td>32608</td>\n      <td>Alachua County</td>\n    </tr>\n    <tr>\n      <th>205</th>\n      <td>ELEC</td>\n      <td>Magnolia Parke Square</td>\n      <td>NW 39th Pl and NW 48 Terrace</td>\n      <td>29.689550</td>\n      <td>-82.395100</td>\n      <td>2015-03-01</td>\n      <td>32606</td>\n      <td>Alachua County</td>\n    </tr>\n    <tr>\n      <th>629</th>\n      <td>ELEC</td>\n      <td>Butler Town Center - Tesla Supercharger</td>\n      <td>3217 Southwest 35th Boulevard</td>\n      <td>29.624400</td>\n      <td>-82.376800</td>\n      <td>2019-09-30</td>\n      <td>32608</td>\n      <td>Alachua County</td>\n    </tr>\n    <tr>\n      <th>628</th>\n      <td>ELEC</td>\n      <td>Fairfield Inn &amp; Suites Gainesville - Tesla Des...</td>\n      <td>3877 SW 37th Blvd</td>\n      <td>29.618709</td>\n      <td>-82.378398</td>\n      <td>2019-03-01</td>\n      <td>32608</td>\n      <td>Alachua County</td>\n    </tr>\n    <tr>\n      <th>...</th>\n      <td>...</td>\n      <td>...</td>\n      <td>...</td>\n      <td>...</td>\n      <td>...</td>\n      <td>...</td>\n      <td>...</td>\n      <td>...</td>\n    </tr>\n    <tr>\n      <th>691</th>\n      <td>ELEC</td>\n      <td>Best Western - Niceville</td>\n      <td>106 Bayshore Dr</td>\n      <td>30.520782</td>\n      <td>-86.490488</td>\n      <td>2020-11-13</td>\n      <td>32578</td>\n      <td>Walton County</td>\n    </tr>\n    <tr>\n      <th>693</th>\n      <td>ELEC</td>\n      <td>Holiday Inn Express &amp; Suites - Niceville</td>\n      <td>410 W John Sims Pkwy</td>\n      <td>30.522455</td>\n      <td>-86.501382</td>\n      <td>2020-11-17</td>\n      <td>32578</td>\n      <td>Walton County</td>\n    </tr>\n    <tr>\n      <th>415</th>\n      <td>ELEC</td>\n      <td>TOPSL Commercial Center - Tesla Destination</td>\n      <td>8955 Emerald Coast Pkwy</td>\n      <td>30.377886</td>\n      <td>-86.325616</td>\n      <td>2020-11-03</td>\n      <td>32550</td>\n      <td>Walton County</td>\n    </tr>\n    <tr>\n      <th>411</th>\n      <td>ELEC</td>\n      <td>Residence Inn Marriott Sandestin at Grand Boul...</td>\n      <td>300 Grand Blvd</td>\n      <td>30.379551</td>\n      <td>-86.318439</td>\n      <td>2017-09-01</td>\n      <td>32550</td>\n      <td>Walton County</td>\n    </tr>\n    <tr>\n      <th>433</th>\n      <td>ELEC</td>\n      <td>Hilton Garden Inn Fort Walton Beach - Tesla De...</td>\n      <td>1297 Miracle Strip Pkwy SE</td>\n      <td>30.395194</td>\n      <td>-86.597456</td>\n      <td>2018-11-01</td>\n      <td>36548</td>\n      <td>Washington County</td>\n    </tr>\n  </tbody>\n</table>\n<p>726 rows × 8 columns</p>\n</div>"
     },
     "metadata": {},
     "execution_count": 8
    }
   ],
   "source": [
    "#combine Stations & counties Df into one\n",
    "combined_df = pd.merge(stat_df, zip_df, on='ZIP')\n",
    "combined_df.sort_values('COUNTYNAME')"
   ]
  },
  {
   "cell_type": "code",
   "execution_count": 9,
   "metadata": {},
   "outputs": [
    {
     "output_type": "execute_result",
     "data": {
      "text/plain": [
       "    Fuel Type Code                                       Station Name  \\\n",
       "628           ELEC  Fairfield Inn & Suites Gainesville - Tesla Des...   \n",
       "645           ELEC  La Quinta Inn by Wyndham Gainesville - Tesla D...   \n",
       "630           ELEC                          Hampton Inn - Gainesville   \n",
       "629           ELEC            Butler Town Center - Tesla Supercharger   \n",
       "677           ELEC                     Alys Beach - Tesla Destination   \n",
       "\n",
       "                    Street Address   Latitude  Longitude  Open Date    ZIP  \\\n",
       "628              3877 SW 37th Blvd  29.618709 -82.378398 2019-03-01  32608   \n",
       "645                920 NW 69th Ter  29.661692 -82.417592 2019-09-30  32605   \n",
       "630              4225 SW 40th Blvd  29.614982 -82.382567 2020-11-13  32608   \n",
       "629  3217 Southwest 35th Boulevard  29.624400 -82.376800 2019-09-30  32608   \n",
       "677      9581 E County Highway 30A  30.285365 -86.030091 2020-11-03  32413   \n",
       "\n",
       "         COUNTYNAME  \n",
       "628  Alachua County  \n",
       "645  Alachua County  \n",
       "630  Alachua County  \n",
       "629  Alachua County  \n",
       "677      Bay County  "
      ],
      "text/html": "<div>\n<style scoped>\n    .dataframe tbody tr th:only-of-type {\n        vertical-align: middle;\n    }\n\n    .dataframe tbody tr th {\n        vertical-align: top;\n    }\n\n    .dataframe thead th {\n        text-align: right;\n    }\n</style>\n<table border=\"1\" class=\"dataframe\">\n  <thead>\n    <tr style=\"text-align: right;\">\n      <th></th>\n      <th>Fuel Type Code</th>\n      <th>Station Name</th>\n      <th>Street Address</th>\n      <th>Latitude</th>\n      <th>Longitude</th>\n      <th>Open Date</th>\n      <th>ZIP</th>\n      <th>COUNTYNAME</th>\n    </tr>\n  </thead>\n  <tbody>\n    <tr>\n      <th>628</th>\n      <td>ELEC</td>\n      <td>Fairfield Inn &amp; Suites Gainesville - Tesla Des...</td>\n      <td>3877 SW 37th Blvd</td>\n      <td>29.618709</td>\n      <td>-82.378398</td>\n      <td>2019-03-01</td>\n      <td>32608</td>\n      <td>Alachua County</td>\n    </tr>\n    <tr>\n      <th>645</th>\n      <td>ELEC</td>\n      <td>La Quinta Inn by Wyndham Gainesville - Tesla D...</td>\n      <td>920 NW 69th Ter</td>\n      <td>29.661692</td>\n      <td>-82.417592</td>\n      <td>2019-09-30</td>\n      <td>32605</td>\n      <td>Alachua County</td>\n    </tr>\n    <tr>\n      <th>630</th>\n      <td>ELEC</td>\n      <td>Hampton Inn - Gainesville</td>\n      <td>4225 SW 40th Blvd</td>\n      <td>29.614982</td>\n      <td>-82.382567</td>\n      <td>2020-11-13</td>\n      <td>32608</td>\n      <td>Alachua County</td>\n    </tr>\n    <tr>\n      <th>629</th>\n      <td>ELEC</td>\n      <td>Butler Town Center - Tesla Supercharger</td>\n      <td>3217 Southwest 35th Boulevard</td>\n      <td>29.624400</td>\n      <td>-82.376800</td>\n      <td>2019-09-30</td>\n      <td>32608</td>\n      <td>Alachua County</td>\n    </tr>\n    <tr>\n      <th>677</th>\n      <td>ELEC</td>\n      <td>Alys Beach - Tesla Destination</td>\n      <td>9581 E County Highway 30A</td>\n      <td>30.285365</td>\n      <td>-86.030091</td>\n      <td>2020-11-03</td>\n      <td>32413</td>\n      <td>Bay County</td>\n    </tr>\n  </tbody>\n</table>\n</div>"
     },
     "metadata": {},
     "execution_count": 9
    }
   ],
   "source": [
    "#create a shorter datafram for the last two years of stations\n",
    "combined_df = combined_df[(combined_df['Open Date'] >= \"2018-01-01\") & (combined_df['Open Date']< \"2020-12-31\")]\n",
    "two_years_df = combined_df.sort_values('COUNTYNAME')\n",
    "two_years_df.head()"
   ]
  },
  {
   "cell_type": "code",
   "execution_count": 10,
   "metadata": {},
   "outputs": [
    {
     "output_type": "execute_result",
     "data": {
      "text/plain": [
       "                                          Station Name   Latitude  Longitude  \\\n",
       "628  Fairfield Inn & Suites Gainesville - Tesla Des...  29.618709 -82.378398   \n",
       "645  La Quinta Inn by Wyndham Gainesville - Tesla D...  29.661692 -82.417592   \n",
       "630                          Hampton Inn - Gainesville  29.614982 -82.382567   \n",
       "629            Butler Town Center - Tesla Supercharger  29.624400 -82.376800   \n",
       "677                     Alys Beach - Tesla Destination  30.285365 -86.030091   \n",
       "\n",
       "     Open Date                 Street Address  \n",
       "628 2019-03-01              3877 SW 37th Blvd  \n",
       "645 2019-09-30                920 NW 69th Ter  \n",
       "630 2020-11-13              4225 SW 40th Blvd  \n",
       "629 2019-09-30  3217 Southwest 35th Boulevard  \n",
       "677 2020-11-03      9581 E County Highway 30A  "
      ],
      "text/html": "<div>\n<style scoped>\n    .dataframe tbody tr th:only-of-type {\n        vertical-align: middle;\n    }\n\n    .dataframe tbody tr th {\n        vertical-align: top;\n    }\n\n    .dataframe thead th {\n        text-align: right;\n    }\n</style>\n<table border=\"1\" class=\"dataframe\">\n  <thead>\n    <tr style=\"text-align: right;\">\n      <th></th>\n      <th>Station Name</th>\n      <th>Latitude</th>\n      <th>Longitude</th>\n      <th>Open Date</th>\n      <th>Street Address</th>\n    </tr>\n  </thead>\n  <tbody>\n    <tr>\n      <th>628</th>\n      <td>Fairfield Inn &amp; Suites Gainesville - Tesla Des...</td>\n      <td>29.618709</td>\n      <td>-82.378398</td>\n      <td>2019-03-01</td>\n      <td>3877 SW 37th Blvd</td>\n    </tr>\n    <tr>\n      <th>645</th>\n      <td>La Quinta Inn by Wyndham Gainesville - Tesla D...</td>\n      <td>29.661692</td>\n      <td>-82.417592</td>\n      <td>2019-09-30</td>\n      <td>920 NW 69th Ter</td>\n    </tr>\n    <tr>\n      <th>630</th>\n      <td>Hampton Inn - Gainesville</td>\n      <td>29.614982</td>\n      <td>-82.382567</td>\n      <td>2020-11-13</td>\n      <td>4225 SW 40th Blvd</td>\n    </tr>\n    <tr>\n      <th>629</th>\n      <td>Butler Town Center - Tesla Supercharger</td>\n      <td>29.624400</td>\n      <td>-82.376800</td>\n      <td>2019-09-30</td>\n      <td>3217 Southwest 35th Boulevard</td>\n    </tr>\n    <tr>\n      <th>677</th>\n      <td>Alys Beach - Tesla Destination</td>\n      <td>30.285365</td>\n      <td>-86.030091</td>\n      <td>2020-11-03</td>\n      <td>9581 E County Highway 30A</td>\n    </tr>\n  </tbody>\n</table>\n</div>"
     },
     "metadata": {},
     "execution_count": 10
    }
   ],
   "source": [
    "stat_plot_df = two_years_df[['Station Name','Latitude', 'Longitude', 'Open Date', 'Street Address']]\n",
    "stat_plot_df.head()"
   ]
  },
  {
   "cell_type": "code",
   "execution_count": 11,
   "metadata": {},
   "outputs": [
    {
     "output_type": "execute_result",
     "data": {
      "text/plain": [
       "                                           stationname   Latitude  Longitude  \\\n",
       "628  Fairfield Inn & Suites Gainesville - Tesla Des...  29.618709 -82.378398   \n",
       "645  La Quinta Inn by Wyndham Gainesville - Tesla D...  29.661692 -82.417592   \n",
       "630                          Hampton Inn - Gainesville  29.614982 -82.382567   \n",
       "629            Butler Town Center - Tesla Supercharger  29.624400 -82.376800   \n",
       "677                     Alys Beach - Tesla Destination  30.285365 -86.030091   \n",
       "..                                                 ...        ...        ...   \n",
       "415        TOPSL Commercial Center - Tesla Destination  30.377886 -86.325616   \n",
       "695                      30 Avenue - Tesla Destination  30.280113 -86.009869   \n",
       "578              Dunes of Seagrove - Tesla Destination  30.306475 -86.088699   \n",
       "624                   10th Street - Tesla Supercharger  30.720700 -86.116700   \n",
       "433  Hilton Garden Inn Fort Walton Beach - Tesla De...  30.395194 -86.597456   \n",
       "\n",
       "      opendate                               address  \n",
       "628 2019-03-01                     3877 SW 37th Blvd  \n",
       "645 2019-09-30                       920 NW 69th Ter  \n",
       "630 2020-11-13                     4225 SW 40th Blvd  \n",
       "629 2019-09-30         3217 Southwest 35th Boulevard  \n",
       "677 2020-11-03             9581 E County Highway 30A  \n",
       "..         ...                                   ...  \n",
       "415 2020-11-03               8955 Emerald Coast Pkwy  \n",
       "695 2020-11-03                         12805 U.S. 98  \n",
       "578 2018-11-01                       396 Lakewood Dr  \n",
       "624 2019-03-01  Corner of Baldwin Ave. & 10th Street  \n",
       "433 2018-11-01            1297 Miracle Strip Pkwy SE  \n",
       "\n",
       "[298 rows x 5 columns]"
      ],
      "text/html": "<div>\n<style scoped>\n    .dataframe tbody tr th:only-of-type {\n        vertical-align: middle;\n    }\n\n    .dataframe tbody tr th {\n        vertical-align: top;\n    }\n\n    .dataframe thead th {\n        text-align: right;\n    }\n</style>\n<table border=\"1\" class=\"dataframe\">\n  <thead>\n    <tr style=\"text-align: right;\">\n      <th></th>\n      <th>stationname</th>\n      <th>Latitude</th>\n      <th>Longitude</th>\n      <th>opendate</th>\n      <th>address</th>\n    </tr>\n  </thead>\n  <tbody>\n    <tr>\n      <th>628</th>\n      <td>Fairfield Inn &amp; Suites Gainesville - Tesla Des...</td>\n      <td>29.618709</td>\n      <td>-82.378398</td>\n      <td>2019-03-01</td>\n      <td>3877 SW 37th Blvd</td>\n    </tr>\n    <tr>\n      <th>645</th>\n      <td>La Quinta Inn by Wyndham Gainesville - Tesla D...</td>\n      <td>29.661692</td>\n      <td>-82.417592</td>\n      <td>2019-09-30</td>\n      <td>920 NW 69th Ter</td>\n    </tr>\n    <tr>\n      <th>630</th>\n      <td>Hampton Inn - Gainesville</td>\n      <td>29.614982</td>\n      <td>-82.382567</td>\n      <td>2020-11-13</td>\n      <td>4225 SW 40th Blvd</td>\n    </tr>\n    <tr>\n      <th>629</th>\n      <td>Butler Town Center - Tesla Supercharger</td>\n      <td>29.624400</td>\n      <td>-82.376800</td>\n      <td>2019-09-30</td>\n      <td>3217 Southwest 35th Boulevard</td>\n    </tr>\n    <tr>\n      <th>677</th>\n      <td>Alys Beach - Tesla Destination</td>\n      <td>30.285365</td>\n      <td>-86.030091</td>\n      <td>2020-11-03</td>\n      <td>9581 E County Highway 30A</td>\n    </tr>\n    <tr>\n      <th>...</th>\n      <td>...</td>\n      <td>...</td>\n      <td>...</td>\n      <td>...</td>\n      <td>...</td>\n    </tr>\n    <tr>\n      <th>415</th>\n      <td>TOPSL Commercial Center - Tesla Destination</td>\n      <td>30.377886</td>\n      <td>-86.325616</td>\n      <td>2020-11-03</td>\n      <td>8955 Emerald Coast Pkwy</td>\n    </tr>\n    <tr>\n      <th>695</th>\n      <td>30 Avenue - Tesla Destination</td>\n      <td>30.280113</td>\n      <td>-86.009869</td>\n      <td>2020-11-03</td>\n      <td>12805 U.S. 98</td>\n    </tr>\n    <tr>\n      <th>578</th>\n      <td>Dunes of Seagrove - Tesla Destination</td>\n      <td>30.306475</td>\n      <td>-86.088699</td>\n      <td>2018-11-01</td>\n      <td>396 Lakewood Dr</td>\n    </tr>\n    <tr>\n      <th>624</th>\n      <td>10th Street - Tesla Supercharger</td>\n      <td>30.720700</td>\n      <td>-86.116700</td>\n      <td>2019-03-01</td>\n      <td>Corner of Baldwin Ave. &amp; 10th Street</td>\n    </tr>\n    <tr>\n      <th>433</th>\n      <td>Hilton Garden Inn Fort Walton Beach - Tesla De...</td>\n      <td>30.395194</td>\n      <td>-86.597456</td>\n      <td>2018-11-01</td>\n      <td>1297 Miracle Strip Pkwy SE</td>\n    </tr>\n  </tbody>\n</table>\n<p>298 rows × 5 columns</p>\n</div>"
     },
     "metadata": {},
     "execution_count": 11
    }
   ],
   "source": [
    "stat_plot_df.rename(columns={\"Station Name\": \"stationname\" , \"Open Date\": \"opendate\", \"Street Address\": \"address\"})"
   ]
  },
  {
   "cell_type": "code",
   "execution_count": 13,
   "metadata": {},
   "outputs": [],
   "source": [
    "stat_plot_df.to_json(\"static/data/statplot.json\", orient= \"split\")"
   ]
  },
  {
   "cell_type": "code",
   "execution_count": null,
   "metadata": {},
   "outputs": [],
   "source": []
  }
 ],
 "metadata": {
  "kernelspec": {
   "name": "python385jvsc74a57bd00cfdad5e626f31b4955989c38978bf1f5325b415a10b52ea84b38c33ed3e8b7b",
   "display_name": "Python 3.8.5 64-bit ('base': conda)"
  },
  "language_info": {
   "codemirror_mode": {
    "name": "ipython",
    "version": 3
   },
   "file_extension": ".py",
   "mimetype": "text/x-python",
   "name": "python",
   "nbconvert_exporter": "python",
   "pygments_lexer": "ipython3",
   "version": "3.8.5"
  }
 },
 "nbformat": 4,
 "nbformat_minor": 4
}