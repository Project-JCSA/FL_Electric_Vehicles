{
 "cells": [
  {
   "cell_type": "code",
   "execution_count": 31,
   "metadata": {},
   "outputs": [],
   "source": [
    "# Dependencies\n",
    "import matplotlib.pyplot as plt\n",
    "import requests\n",
    "import json\n",
    "import pandas as pd"
   ]
  },
  {
   "cell_type": "code",
   "execution_count": 32,
   "metadata": {
    "scrolled": true
   },
   "outputs": [
    {
     "data": {
      "text/plain": [
       "Index(['Fuel Type Code', 'Station Name', 'Street Address',\n",
       "       'Intersection Directions', 'City', 'State', 'ZIP', 'Plus4',\n",
       "       'Station Phone', 'Status Code', 'Expected Date',\n",
       "       'Groups With Access Code', 'Access Days Time', 'Cards Accepted',\n",
       "       'BD Blends', 'NG Fill Type Code', 'NG PSI', 'EV Level1 EVSE Num',\n",
       "       'EV Level2 EVSE Num', 'EV DC Fast Count', 'EV Other Info', 'EV Network',\n",
       "       'EV Network Web', 'Geocode Status', 'Latitude', 'Longitude',\n",
       "       'Date Last Confirmed', 'ID', 'Updated At', 'Owner Type Code',\n",
       "       'Federal Agency ID', 'Federal Agency Name', 'Open Date',\n",
       "       'Hydrogen Status Link', 'NG Vehicle Class', 'LPG Primary',\n",
       "       'E85 Blender Pump', 'EV Connector Types', 'Country',\n",
       "       'Intersection Directions (French)', 'Access Days Time (French)',\n",
       "       'BD Blends (French)', 'Groups With Access Code (French)',\n",
       "       'Hydrogen Is Retail', 'Access Code', 'Access Detail Code',\n",
       "       'Federal Agency Code', 'Facility Type', 'CNG Dispenser Num',\n",
       "       'CNG On-Site Renewable Source', 'CNG Total Compression Capacity',\n",
       "       'CNG Storage Capacity', 'LNG On-Site Renewable Source',\n",
       "       'E85 Other Ethanol Blends', 'EV Pricing', 'EV Pricing (French)',\n",
       "       'LPG Nozzle Types', 'Hydrogen Pressures', 'Hydrogen Standards',\n",
       "       'CNG Fill Type Code', 'CNG PSI', 'CNG Vehicle Class',\n",
       "       'LNG Vehicle Class', 'EV On-Site Renewable Source'],\n",
       "      dtype='object')"
      ]
     },
     "execution_count": 32,
     "metadata": {},
     "output_type": "execute_result"
    }
   ],
   "source": [
    "stat_url =  \"static/data/fl_ev_stations.csv\"\n",
    "stat_df = pd.read_csv(stat_url)\n",
    "stat_df.columns"
   ]
  },
  {
   "cell_type": "code",
   "execution_count": 33,
   "metadata": {},
   "outputs": [
    {
     "data": {
      "text/html": [
       "<div>\n",
       "<style scoped>\n",
       "    .dataframe tbody tr th:only-of-type {\n",
       "        vertical-align: middle;\n",
       "    }\n",
       "\n",
       "    .dataframe tbody tr th {\n",
       "        vertical-align: top;\n",
       "    }\n",
       "\n",
       "    .dataframe thead th {\n",
       "        text-align: right;\n",
       "    }\n",
       "</style>\n",
       "<table border=\"1\" class=\"dataframe\">\n",
       "  <thead>\n",
       "    <tr style=\"text-align: right;\">\n",
       "      <th></th>\n",
       "      <th>Fuel Type Code</th>\n",
       "      <th>Station Name</th>\n",
       "      <th>Street Address</th>\n",
       "      <th>Latitude</th>\n",
       "      <th>Longitude</th>\n",
       "    </tr>\n",
       "  </thead>\n",
       "  <tbody>\n",
       "    <tr>\n",
       "      <th>0</th>\n",
       "      <td>ELEC</td>\n",
       "      <td>OUC RELIABLE 01</td>\n",
       "      <td>100 W Anderson Street</td>\n",
       "      <td>28.535975</td>\n",
       "      <td>-81.379663</td>\n",
       "    </tr>\n",
       "    <tr>\n",
       "      <th>1</th>\n",
       "      <td>ELEC</td>\n",
       "      <td>OUC OC BARNETT 1</td>\n",
       "      <td>4801 W Colonial Dr</td>\n",
       "      <td>28.560572</td>\n",
       "      <td>-81.441748</td>\n",
       "    </tr>\n",
       "    <tr>\n",
       "      <th>2</th>\n",
       "      <td>ELEC</td>\n",
       "      <td>OUC OC MARKS ST 01</td>\n",
       "      <td>99 E Marks St</td>\n",
       "      <td>28.556879</td>\n",
       "      <td>-81.377632</td>\n",
       "    </tr>\n",
       "    <tr>\n",
       "      <th>3</th>\n",
       "      <td>ELEC</td>\n",
       "      <td>OUC OUC OCCC 03</td>\n",
       "      <td>9899 International Drive</td>\n",
       "      <td>28.429015</td>\n",
       "      <td>-81.458938</td>\n",
       "    </tr>\n",
       "    <tr>\n",
       "      <th>4</th>\n",
       "      <td>ELEC</td>\n",
       "      <td>OUC OC W LIBRARY 01</td>\n",
       "      <td>5151 Raleigh St</td>\n",
       "      <td>28.528024</td>\n",
       "      <td>-81.447740</td>\n",
       "    </tr>\n",
       "  </tbody>\n",
       "</table>\n",
       "</div>"
      ],
      "text/plain": [
       "  Fuel Type Code         Station Name            Street Address   Latitude  \\\n",
       "0           ELEC      OUC RELIABLE 01     100 W Anderson Street  28.535975   \n",
       "1           ELEC     OUC OC BARNETT 1        4801 W Colonial Dr  28.560572   \n",
       "2           ELEC   OUC OC MARKS ST 01             99 E Marks St  28.556879   \n",
       "3           ELEC      OUC OUC OCCC 03  9899 International Drive  28.429015   \n",
       "4           ELEC  OUC OC W LIBRARY 01           5151 Raleigh St  28.528024   \n",
       "\n",
       "   Longitude  \n",
       "0 -81.379663  \n",
       "1 -81.441748  \n",
       "2 -81.377632  \n",
       "3 -81.458938  \n",
       "4 -81.447740  "
      ]
     },
     "execution_count": 33,
     "metadata": {},
     "output_type": "execute_result"
    }
   ],
   "source": [
    "#remove unecessary columns\n",
    "stat_df = stat_df[['Fuel Type Code', 'Station Name', 'Street Address','Latitude', 'Longitude']]\n",
    "stat_df.head()"
   ]
  },
  {
   "cell_type": "code",
   "execution_count": 34,
   "metadata": {},
   "outputs": [],
   "source": [
    "stat_df.to_csv(r'static/data/fl_ev_stations_clean.csv')"
   ]
  },
  {
   "cell_type": "code",
   "execution_count": null,
   "metadata": {},
   "outputs": [],
   "source": []
  }
 ],
 "metadata": {
  "kernelspec": {
   "display_name": "Python 3",
   "language": "python",
   "name": "python3"
  },
  "language_info": {
   "codemirror_mode": {
    "name": "ipython",
    "version": 3
   },
   "file_extension": ".py",
   "mimetype": "text/x-python",
   "name": "python",
   "nbconvert_exporter": "python",
   "pygments_lexer": "ipython3",
   "version": "3.8.5"
  }
 },
 "nbformat": 4,
 "nbformat_minor": 4
}
