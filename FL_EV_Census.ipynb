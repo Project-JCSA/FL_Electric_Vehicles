{
 "metadata": {
  "language_info": {
   "codemirror_mode": {
    "name": "ipython",
    "version": 3
   },
   "file_extension": ".py",
   "mimetype": "text/x-python",
   "name": "python",
   "nbconvert_exporter": "python",
   "pygments_lexer": "ipython3",
   "version": "3.8.5"
  },
  "orig_nbformat": 2,
  "kernelspec": {
   "name": "python385jvsc74a57bd00cfdad5e626f31b4955989c38978bf1f5325b415a10b52ea84b38c33ed3e8b7b",
   "display_name": "Python 3.8.5 64-bit ('base': conda)"
  }
 },
 "nbformat": 4,
 "nbformat_minor": 2,
 "cells": [
  {
   "cell_type": "code",
   "execution_count": 2,
   "metadata": {},
   "outputs": [],
   "source": [
    "# Dependencies\n",
    "import pandas as pd\n",
    "import json\n",
    "import requests "
   ]
  },
  {
   "cell_type": "code",
   "execution_count": 30,
   "metadata": {},
   "outputs": [
    {
     "output_type": "execute_result",
     "data": {
      "text/plain": [
       "       Date Population                County & State State ID County ID  \\\n",
       "0  DATE_DES        POP                          NAME    STATE     state   \n",
       "1  7/1/2019       4198    Hidalgo County, New Mexico       35        35   \n",
       "2  7/1/2019     672391     Hudson County, New Jersey       34        34   \n",
       "3  7/1/2019     124371  Hunterdon County, New Jersey       34        34   \n",
       "4  7/1/2019     491845     Morris County, New Jersey       34        34   \n",
       "\n",
       "             County        State  \n",
       "0              NAME          NaN  \n",
       "1    Hidalgo County   New Mexico  \n",
       "2     Hudson County   New Jersey  \n",
       "3  Hunterdon County   New Jersey  \n",
       "4     Morris County   New Jersey  "
      ],
      "text/html": "<div>\n<style scoped>\n    .dataframe tbody tr th:only-of-type {\n        vertical-align: middle;\n    }\n\n    .dataframe tbody tr th {\n        vertical-align: top;\n    }\n\n    .dataframe thead th {\n        text-align: right;\n    }\n</style>\n<table border=\"1\" class=\"dataframe\">\n  <thead>\n    <tr style=\"text-align: right;\">\n      <th></th>\n      <th>Date</th>\n      <th>Population</th>\n      <th>County &amp; State</th>\n      <th>State ID</th>\n      <th>County ID</th>\n      <th>County</th>\n      <th>State</th>\n    </tr>\n  </thead>\n  <tbody>\n    <tr>\n      <th>0</th>\n      <td>DATE_DES</td>\n      <td>POP</td>\n      <td>NAME</td>\n      <td>STATE</td>\n      <td>state</td>\n      <td>NAME</td>\n      <td>NaN</td>\n    </tr>\n    <tr>\n      <th>1</th>\n      <td>7/1/2019</td>\n      <td>4198</td>\n      <td>Hidalgo County, New Mexico</td>\n      <td>35</td>\n      <td>35</td>\n      <td>Hidalgo County</td>\n      <td>New Mexico</td>\n    </tr>\n    <tr>\n      <th>2</th>\n      <td>7/1/2019</td>\n      <td>672391</td>\n      <td>Hudson County, New Jersey</td>\n      <td>34</td>\n      <td>34</td>\n      <td>Hudson County</td>\n      <td>New Jersey</td>\n    </tr>\n    <tr>\n      <th>3</th>\n      <td>7/1/2019</td>\n      <td>124371</td>\n      <td>Hunterdon County, New Jersey</td>\n      <td>34</td>\n      <td>34</td>\n      <td>Hunterdon County</td>\n      <td>New Jersey</td>\n    </tr>\n    <tr>\n      <th>4</th>\n      <td>7/1/2019</td>\n      <td>491845</td>\n      <td>Morris County, New Jersey</td>\n      <td>34</td>\n      <td>34</td>\n      <td>Morris County</td>\n      <td>New Jersey</td>\n    </tr>\n  </tbody>\n</table>\n</div>"
     },
     "metadata": {},
     "execution_count": 30
    }
   ],
   "source": [
    "# Census URL\n",
    "census_url = \"https://api.census.gov/data/2019/pep/population?get=DATE_DESC,POP,NAME,STATE&for=county:*\"\n",
    "\n",
    "#Request data in json and store variable\n",
    "census_response = requests.get(census_url)\n",
    "census_data = census_response.json()\n",
    "\n",
    "# Create list to store values for the census data\n",
    "date_desc = []\n",
    "pop = []\n",
    "name = []\n",
    "state = []\n",
    "county = []\n",
    "\n",
    "# Loop through data and append list\n",
    "for items in census_data:\n",
    "    date_desc.append(items[0])\n",
    "    pop.append(items[1])\n",
    "    name.append(items[2])\n",
    "    state.append(items[3])\n",
    "    county.append(items[4])\n",
    "\n",
    "# Create dataframe from list\n",
    "census_df = pd.DataFrame({\"Date\":date_desc, \"Population\":pop, \"County & State\":name, \n",
    "                        \"State ID\":state, \"County ID\":county})\n",
    "\n",
    "# Clean up Date Column and Split the County and State\n",
    "census_df[\"Date\"] = census_df[\"Date\"].str[:8]\n",
    "census_df[\"County\"] = census_df[\"County & State\"].str.split(',').str[0]\n",
    "census_df[\"State\"] = census_df[\"County & State\"].str.split(',').str[1]\n",
    "\n",
    "census_df.head()"
   ]
  },
  {
   "cell_type": "code",
   "execution_count": 35,
   "metadata": {},
   "outputs": [
    {
     "output_type": "execute_result",
     "data": {
      "text/plain": [
       "         Date Population             County\n",
       "307  7/1/2019      25473  Washington County\n",
       "308  7/1/2019     957755       Duval County\n",
       "309  7/1/2019      28201    Bradford County\n",
       "310  7/1/2019     601942     Brevard County\n",
       "311  7/1/2019     219252        Clay County"
      ],
      "text/html": "<div>\n<style scoped>\n    .dataframe tbody tr th:only-of-type {\n        vertical-align: middle;\n    }\n\n    .dataframe tbody tr th {\n        vertical-align: top;\n    }\n\n    .dataframe thead th {\n        text-align: right;\n    }\n</style>\n<table border=\"1\" class=\"dataframe\">\n  <thead>\n    <tr style=\"text-align: right;\">\n      <th></th>\n      <th>Date</th>\n      <th>Population</th>\n      <th>County</th>\n    </tr>\n  </thead>\n  <tbody>\n    <tr>\n      <th>307</th>\n      <td>7/1/2019</td>\n      <td>25473</td>\n      <td>Washington County</td>\n    </tr>\n    <tr>\n      <th>308</th>\n      <td>7/1/2019</td>\n      <td>957755</td>\n      <td>Duval County</td>\n    </tr>\n    <tr>\n      <th>309</th>\n      <td>7/1/2019</td>\n      <td>28201</td>\n      <td>Bradford County</td>\n    </tr>\n    <tr>\n      <th>310</th>\n      <td>7/1/2019</td>\n      <td>601942</td>\n      <td>Brevard County</td>\n    </tr>\n    <tr>\n      <th>311</th>\n      <td>7/1/2019</td>\n      <td>219252</td>\n      <td>Clay County</td>\n    </tr>\n  </tbody>\n</table>\n</div>"
     },
     "metadata": {},
     "execution_count": 35
    }
   ],
   "source": [
    "# Grab only Florida Counties and Drop unneccessary Columns\n",
    "fl_census_df = census_df[census_df[\"State ID\"] == \"12\"]\n",
    "fl_census_df = fl_census_df.drop(columns=['County & State', 'State ID', 'County ID', 'State'])\n",
    "fl_census_df.head()"
   ]
  },
  {
   "cell_type": "code",
   "execution_count": null,
   "metadata": {},
   "outputs": [],
   "source": []
  }
 ]
}