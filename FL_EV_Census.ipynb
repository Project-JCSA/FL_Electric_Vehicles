{
 "metadata": {
  "language_info": {
   "codemirror_mode": {
    "name": "ipython",
    "version": 3
   },
   "file_extension": ".py",
   "mimetype": "text/x-python",
   "name": "python",
   "nbconvert_exporter": "python",
   "pygments_lexer": "ipython3",
   "version": "3.8.5"
  },
  "orig_nbformat": 2,
  "kernelspec": {
   "name": "python385jvsc74a57bd00cfdad5e626f31b4955989c38978bf1f5325b415a10b52ea84b38c33ed3e8b7b",
   "display_name": "Python 3.8.5 64-bit ('base': conda)"
  }
 },
 "nbformat": 4,
 "nbformat_minor": 2,
 "cells": [
  {
   "cell_type": "code",
   "execution_count": 1,
   "metadata": {},
   "outputs": [],
   "source": [
    "# Dependencies\n",
    "import pandas as pd\n",
    "import json\n",
    "import requests "
   ]
  },
  {
   "cell_type": "code",
   "execution_count": 11,
   "metadata": {},
   "outputs": [
    {
     "output_type": "execute_result",
     "data": {
      "text/plain": [
       "            year population\n",
       "county                     \n",
       "Alachua     2018     269956\n",
       "Baker       2018      28355\n",
       "Bay         2018     185287\n",
       "Bradford    2018      27732\n",
       "Brevard     2018     596849\n",
       "...          ...        ...\n",
       "Union       2018      14940\n",
       "Volusia     2018     547538\n",
       "Wakulla     2018      32461\n",
       "Walton      2018      71375\n",
       "Washington  2018      24880\n",
       "\n",
       "[67 rows x 2 columns]"
      ],
      "text/html": "<div>\n<style scoped>\n    .dataframe tbody tr th:only-of-type {\n        vertical-align: middle;\n    }\n\n    .dataframe tbody tr th {\n        vertical-align: top;\n    }\n\n    .dataframe thead th {\n        text-align: right;\n    }\n</style>\n<table border=\"1\" class=\"dataframe\">\n  <thead>\n    <tr style=\"text-align: right;\">\n      <th></th>\n      <th>year</th>\n      <th>population</th>\n    </tr>\n    <tr>\n      <th>county</th>\n      <th></th>\n      <th></th>\n    </tr>\n  </thead>\n  <tbody>\n    <tr>\n      <th>Alachua</th>\n      <td>2018</td>\n      <td>269956</td>\n    </tr>\n    <tr>\n      <th>Baker</th>\n      <td>2018</td>\n      <td>28355</td>\n    </tr>\n    <tr>\n      <th>Bay</th>\n      <td>2018</td>\n      <td>185287</td>\n    </tr>\n    <tr>\n      <th>Bradford</th>\n      <td>2018</td>\n      <td>27732</td>\n    </tr>\n    <tr>\n      <th>Brevard</th>\n      <td>2018</td>\n      <td>596849</td>\n    </tr>\n    <tr>\n      <th>...</th>\n      <td>...</td>\n      <td>...</td>\n    </tr>\n    <tr>\n      <th>Union</th>\n      <td>2018</td>\n      <td>14940</td>\n    </tr>\n    <tr>\n      <th>Volusia</th>\n      <td>2018</td>\n      <td>547538</td>\n    </tr>\n    <tr>\n      <th>Wakulla</th>\n      <td>2018</td>\n      <td>32461</td>\n    </tr>\n    <tr>\n      <th>Walton</th>\n      <td>2018</td>\n      <td>71375</td>\n    </tr>\n    <tr>\n      <th>Washington</th>\n      <td>2018</td>\n      <td>24880</td>\n    </tr>\n  </tbody>\n</table>\n<p>67 rows × 2 columns</p>\n</div>"
     },
     "metadata": {},
     "execution_count": 11
    }
   ],
   "source": [
    "# 2018 Census Population URL\n",
    "pop_2018_url = \"https://api.census.gov/data/2018/pep/population?get=DATE_DESC,POP,GEONAME,STATE&for=county:*\"\n",
    "\n",
    "#Request data in json and store variable\n",
    "pop_2018_response = requests.get(pop_2018_url)\n",
    "pop_2018_data = pop_2018_response.json()\n",
    "\n",
    "# Create list to store values for the census data\n",
    "date_desc = []\n",
    "pop = []\n",
    "name = []\n",
    "state = []\n",
    "county = []\n",
    "\n",
    "# Loop through data and append list\n",
    "for items in pop_2018_data:\n",
    "    date_desc.append(items[0])\n",
    "    pop.append(items[1])\n",
    "    name.append(items[2])\n",
    "    state.append(items[3])\n",
    "    county.append(items[4])\n",
    "\n",
    "# Create dataframe from list\n",
    "pop_2018_df = pd.DataFrame({\"year\":date_desc, \"population\":pop, \"County & State\":name, \n",
    "                        \"State ID\":state, \"County ID\":county})\n",
    "\n",
    "# Clean up Date Column and Split the County and State\n",
    "pop_2018_df[\"year\"] = pop_2018_df[\"year\"].str[4:8]\n",
    "pop_2018_df[\"county\"] = pop_2018_df[\"County & State\"].str.split(' ').str[0]\n",
    "\n",
    "# Grab only Florida Counties and Drop unneccessary Columns\n",
    "fl_2018_pop = pop_2018_df[pop_2018_df[\"State ID\"] == \"12\"]\n",
    "fl_2018_pop = fl_2018_pop.drop(columns=['County & State', 'State ID', 'County ID'])\n",
    "fl_2018_pop = fl_2018_pop.set_index(['county'])\n",
    "fl_2018_pop"
   ]
  },
  {
   "cell_type": "code",
   "execution_count": 13,
   "metadata": {},
   "outputs": [
    {
     "output_type": "execute_result",
     "data": {
      "text/plain": [
       "county\n",
       "Alachua       49332\n",
       "Baker         47505\n",
       "Bay           49023\n",
       "Bradford      40499\n",
       "Brevard       55343\n",
       "              ...  \n",
       "Union         41423\n",
       "Volusia       49088\n",
       "Wakulla       53658\n",
       "Walton        55461\n",
       "Washington    35230\n",
       "Name: income, Length: 67, dtype: object"
      ]
     },
     "metadata": {},
     "execution_count": 13
    }
   ],
   "source": [
    "# Median Household Income\n",
    "mhi_2018_url = \"https://api.census.gov/data/timeseries/poverty/saipe?get=NAME,SAEMHI_LB90,SAEMHI_MOE,SAEMHI_PT&for=county:*&YEAR=2018\"\n",
    "\n",
    "#Request data in json and store variable\n",
    "mhi_2018_response = requests.get(mhi_2018_url)\n",
    "mhi_2018_data = mhi_2018_response.json()\n",
    "\n",
    "# Create list to store values for the census data\n",
    "county = []\n",
    "mhi_90 = [] #Median Household Income Lower Bound for 90% Confidence Interval\n",
    "# mhi_moe = [] #Median Household Income Margin of Error\n",
    "# mhi_est = [] #Median Household Income Estimate\n",
    "year = []\n",
    "state = []\n",
    "countyID = []\n",
    "\n",
    "# Loop through data and append list\n",
    "for items in mhi_2018_data:\n",
    "    county.append(items[0])\n",
    "    mhi_90.append(items[1])\n",
    "    # mhi_moe.append(items[2])\n",
    "    # mhi_est.append(items[3])\n",
    "    year.append(items[4])\n",
    "    state.append(items[5])\n",
    "    countyID.append(items[6])\n",
    "\n",
    "# Create dataframe from list\n",
    "mhi_2018_df = pd.DataFrame({\"county\":county, \"year\":year, \"income\": mhi_90, \"State ID\":state})\n",
    "\n",
    "mhi_2018_df[\"county\"] = mhi_2018_df[\"county\"].str.split(' ').str[0]\n",
    "\n",
    "# Grab only Florida Counties and Drop unneccessary Columns\n",
    "fl_2018_mhi = mhi_2018_df[mhi_2018_df[\"State ID\"] == \"12\"]\n",
    "fl_2018_mhi = fl_2018_mhi.drop(columns=['State ID'])\n",
    "fl_2018_mhi = fl_2018_mhi.set_index(['county'])\n",
    "income_2018 = fl_2018_mhi['income']\n",
    "income_2018"
   ]
  },
  {
   "cell_type": "code",
   "execution_count": 16,
   "metadata": {},
   "outputs": [
    {
     "output_type": "execute_result",
     "data": {
      "text/plain": [
       "          year population income\n",
       "county                          \n",
       "Alachua   2018     269956  49332\n",
       "Baker     2018      28355  47505\n",
       "Bay       2018     185287  49023\n",
       "Bradford  2018      27732  40499\n",
       "Brevard   2018     596849  55343"
      ],
      "text/html": "<div>\n<style scoped>\n    .dataframe tbody tr th:only-of-type {\n        vertical-align: middle;\n    }\n\n    .dataframe tbody tr th {\n        vertical-align: top;\n    }\n\n    .dataframe thead th {\n        text-align: right;\n    }\n</style>\n<table border=\"1\" class=\"dataframe\">\n  <thead>\n    <tr style=\"text-align: right;\">\n      <th></th>\n      <th>year</th>\n      <th>population</th>\n      <th>income</th>\n    </tr>\n    <tr>\n      <th>county</th>\n      <th></th>\n      <th></th>\n      <th></th>\n    </tr>\n  </thead>\n  <tbody>\n    <tr>\n      <th>Alachua</th>\n      <td>2018</td>\n      <td>269956</td>\n      <td>49332</td>\n    </tr>\n    <tr>\n      <th>Baker</th>\n      <td>2018</td>\n      <td>28355</td>\n      <td>47505</td>\n    </tr>\n    <tr>\n      <th>Bay</th>\n      <td>2018</td>\n      <td>185287</td>\n      <td>49023</td>\n    </tr>\n    <tr>\n      <th>Bradford</th>\n      <td>2018</td>\n      <td>27732</td>\n      <td>40499</td>\n    </tr>\n    <tr>\n      <th>Brevard</th>\n      <td>2018</td>\n      <td>596849</td>\n      <td>55343</td>\n    </tr>\n  </tbody>\n</table>\n</div>"
     },
     "metadata": {},
     "execution_count": 16
    }
   ],
   "source": [
    "# Combine 2018 Data\n",
    "fl_2018_demo = fl_2018_pop\n",
    "fl_2018_demo['income'] = income_2018\n",
    "fl_2018_demo.head()"
   ]
  },
  {
   "cell_type": "code",
   "execution_count": 27,
   "metadata": {},
   "outputs": [
    {
     "output_type": "execute_result",
     "data": {
      "text/plain": [
       "            year population\n",
       "county                     \n",
       "Alachua     2019     269043\n",
       "Baker       2019      29210\n",
       "Bay         2019     174705\n",
       "Bradford    2019      28201\n",
       "Brevard     2019     601942\n",
       "...          ...        ...\n",
       "Union       2019      15237\n",
       "Volusia     2019     553284\n",
       "Wakulla     2019      33739\n",
       "Walton      2019      74071\n",
       "Washington  2019      25473\n",
       "\n",
       "[67 rows x 2 columns]"
      ],
      "text/html": "<div>\n<style scoped>\n    .dataframe tbody tr th:only-of-type {\n        vertical-align: middle;\n    }\n\n    .dataframe tbody tr th {\n        vertical-align: top;\n    }\n\n    .dataframe thead th {\n        text-align: right;\n    }\n</style>\n<table border=\"1\" class=\"dataframe\">\n  <thead>\n    <tr style=\"text-align: right;\">\n      <th></th>\n      <th>year</th>\n      <th>population</th>\n    </tr>\n    <tr>\n      <th>county</th>\n      <th></th>\n      <th></th>\n    </tr>\n  </thead>\n  <tbody>\n    <tr>\n      <th>Alachua</th>\n      <td>2019</td>\n      <td>269043</td>\n    </tr>\n    <tr>\n      <th>Baker</th>\n      <td>2019</td>\n      <td>29210</td>\n    </tr>\n    <tr>\n      <th>Bay</th>\n      <td>2019</td>\n      <td>174705</td>\n    </tr>\n    <tr>\n      <th>Bradford</th>\n      <td>2019</td>\n      <td>28201</td>\n    </tr>\n    <tr>\n      <th>Brevard</th>\n      <td>2019</td>\n      <td>601942</td>\n    </tr>\n    <tr>\n      <th>...</th>\n      <td>...</td>\n      <td>...</td>\n    </tr>\n    <tr>\n      <th>Union</th>\n      <td>2019</td>\n      <td>15237</td>\n    </tr>\n    <tr>\n      <th>Volusia</th>\n      <td>2019</td>\n      <td>553284</td>\n    </tr>\n    <tr>\n      <th>Wakulla</th>\n      <td>2019</td>\n      <td>33739</td>\n    </tr>\n    <tr>\n      <th>Walton</th>\n      <td>2019</td>\n      <td>74071</td>\n    </tr>\n    <tr>\n      <th>Washington</th>\n      <td>2019</td>\n      <td>25473</td>\n    </tr>\n  </tbody>\n</table>\n<p>67 rows × 2 columns</p>\n</div>"
     },
     "metadata": {},
     "execution_count": 27
    }
   ],
   "source": [
    "# 2019 Census Population URL\n",
    "pop_2019_url = \"https://api.census.gov/data/2019/pep/population?get=DATE_DESC,POP,NAME,STATE&for=county:*\"\n",
    "\n",
    "#Request data in json and store variable\n",
    "pop_2019_response = requests.get(pop_2019_url)\n",
    "pop_2019_data = pop_2019_response.json()\n",
    "\n",
    "# Create list to store values for the census data\n",
    "date_desc = []\n",
    "pop = []\n",
    "name = []\n",
    "state = []\n",
    "county = []\n",
    "\n",
    "# Loop through data and append list\n",
    "for items in pop_2019_data:\n",
    "    date_desc.append(items[0])\n",
    "    pop.append(items[1])\n",
    "    name.append(items[2])\n",
    "    state.append(items[3])\n",
    "    county.append(items[4])\n",
    "\n",
    "# Create dataframe from list\n",
    "pop_2019_df = pd.DataFrame({\"year\":date_desc, \"population\":pop, \"County & State\":name, \n",
    "                        \"State ID\":state, \"County ID\":county})\n",
    "\n",
    "# Clean up Date Column and Split the County and State\n",
    "pop_2019_df[\"year\"] = pop_2019_df[\"year\"].str[4:8]\n",
    "pop_2019_df[\"county\"] = pop_2019_df[\"County & State\"].str.split(' ').str[0]\n",
    "\n",
    "# Grab only Florida Counties and Drop unneccessary Columns\n",
    "fl_2019_pop = pop_2019_df[pop_2019_df[\"State ID\"] == \"12\"]\n",
    "fl_2019_pop = fl_2019_pop.drop(columns=['County & State', 'State ID', 'County ID'])\n",
    "fl_2019_pop = fl_2019_pop.set_index(['county'])\n",
    "fl_2019_pop = fl_2019_pop.sort_index()\n",
    "fl_2019_pop"
   ]
  },
  {
   "cell_type": "code",
   "execution_count": 28,
   "metadata": {},
   "outputs": [
    {
     "output_type": "execute_result",
     "data": {
      "text/plain": [
       "county\n",
       "Alachua       47507\n",
       "Baker         55713\n",
       "Bay           55318\n",
       "Bradford      42134\n",
       "Brevard       55030\n",
       "              ...  \n",
       "Union         45224\n",
       "Volusia       51240\n",
       "Wakulla       52485\n",
       "Walton        57485\n",
       "Washington    38404\n",
       "Name: income, Length: 67, dtype: object"
      ]
     },
     "metadata": {},
     "execution_count": 28
    }
   ],
   "source": [
    "# Median Household Income\n",
    "mhi_2019_url = \"https://api.census.gov/data/timeseries/poverty/saipe?get=NAME,SAEMHI_LB90,SAEMHI_MOE,SAEMHI_PT&for=county:*&YEAR=2019\"\n",
    "\n",
    "#Request data in json and store variable\n",
    "mhi_2019_response = requests.get(mhi_2019_url)\n",
    "mhi_2019_data = mhi_2019_response.json()\n",
    "\n",
    "# Create list to store values for the census data\n",
    "county = []\n",
    "mhi_90 = [] #Median Household Income Lower Bound for 90% Confidence Interval\n",
    "# mhi_moe = [] #Median Household Income Margin of Error\n",
    "# mhi_est = [] #Median Household Income Estimate\n",
    "year = []\n",
    "state = []\n",
    "countyID = []\n",
    "\n",
    "# Loop through data and append list\n",
    "for items in mhi_2019_data:\n",
    "    county.append(items[0])\n",
    "    mhi_90.append(items[1])\n",
    "    # mhi_moe.append(items[2])\n",
    "    # mhi_est.append(items[3])\n",
    "    year.append(items[4])\n",
    "    state.append(items[5])\n",
    "    countyID.append(items[6])\n",
    "\n",
    "# Create dataframe from list\n",
    "mhi_2019_df = pd.DataFrame({\"county\":county, \"year\":year, \"income\": mhi_90, \"State ID\":state})\n",
    "\n",
    "mhi_2019_df[\"county\"] = mhi_2019_df[\"county\"].str.split(' ').str[0]\n",
    "\n",
    "# Grab only Florida Counties and Drop unneccessary Columns\n",
    "fl_2019_mhi = mhi_2019_df[mhi_2019_df[\"State ID\"] == \"12\"]\n",
    "fl_2019_mhi = fl_2019_mhi.drop(columns=['State ID'])\n",
    "fl_2019_mhi = fl_2019_mhi.set_index(['county'])\n",
    "fl_2019_mhi = fl_2019_mhi.sort_index()\n",
    "income_2019 = fl_2019_mhi['income']\n",
    "income_2019"
   ]
  },
  {
   "cell_type": "code",
   "execution_count": 29,
   "metadata": {},
   "outputs": [
    {
     "output_type": "execute_result",
     "data": {
      "text/plain": [
       "          year population income\n",
       "county                          \n",
       "Alachua   2019     269043  47507\n",
       "Baker     2019      29210  55713\n",
       "Bay       2019     174705  55318\n",
       "Bradford  2019      28201  42134\n",
       "Brevard   2019     601942  55030"
      ],
      "text/html": "<div>\n<style scoped>\n    .dataframe tbody tr th:only-of-type {\n        vertical-align: middle;\n    }\n\n    .dataframe tbody tr th {\n        vertical-align: top;\n    }\n\n    .dataframe thead th {\n        text-align: right;\n    }\n</style>\n<table border=\"1\" class=\"dataframe\">\n  <thead>\n    <tr style=\"text-align: right;\">\n      <th></th>\n      <th>year</th>\n      <th>population</th>\n      <th>income</th>\n    </tr>\n    <tr>\n      <th>county</th>\n      <th></th>\n      <th></th>\n      <th></th>\n    </tr>\n  </thead>\n  <tbody>\n    <tr>\n      <th>Alachua</th>\n      <td>2019</td>\n      <td>269043</td>\n      <td>47507</td>\n    </tr>\n    <tr>\n      <th>Baker</th>\n      <td>2019</td>\n      <td>29210</td>\n      <td>55713</td>\n    </tr>\n    <tr>\n      <th>Bay</th>\n      <td>2019</td>\n      <td>174705</td>\n      <td>55318</td>\n    </tr>\n    <tr>\n      <th>Bradford</th>\n      <td>2019</td>\n      <td>28201</td>\n      <td>42134</td>\n    </tr>\n    <tr>\n      <th>Brevard</th>\n      <td>2019</td>\n      <td>601942</td>\n      <td>55030</td>\n    </tr>\n  </tbody>\n</table>\n</div>"
     },
     "metadata": {},
     "execution_count": 29
    }
   ],
   "source": [
    "# Combine 2019 Data\n",
    "fl_2019_demo = fl_2019_pop\n",
    "fl_2019_demo['income'] = income_2019\n",
    "fl_2019_demo.head()"
   ]
  },
  {
   "cell_type": "code",
   "execution_count": 9,
   "metadata": {},
   "outputs": [
    {
     "output_type": "execute_result",
     "data": {
      "text/plain": [
       "          year  population\n",
       "county                    \n",
       "Alachua   2020    271588.0\n",
       "Baker     2020     28532.0\n",
       "Bay       2020    174410.0\n",
       "Bradford  2020     28725.0\n",
       "Brevard   2020    606671.0"
      ],
      "text/html": "<div>\n<style scoped>\n    .dataframe tbody tr th:only-of-type {\n        vertical-align: middle;\n    }\n\n    .dataframe tbody tr th {\n        vertical-align: top;\n    }\n\n    .dataframe thead th {\n        text-align: right;\n    }\n</style>\n<table border=\"1\" class=\"dataframe\">\n  <thead>\n    <tr style=\"text-align: right;\">\n      <th></th>\n      <th>year</th>\n      <th>population</th>\n    </tr>\n    <tr>\n      <th>county</th>\n      <th></th>\n      <th></th>\n    </tr>\n  </thead>\n  <tbody>\n    <tr>\n      <th>Alachua</th>\n      <td>2020</td>\n      <td>271588.0</td>\n    </tr>\n    <tr>\n      <th>Baker</th>\n      <td>2020</td>\n      <td>28532.0</td>\n    </tr>\n    <tr>\n      <th>Bay</th>\n      <td>2020</td>\n      <td>174410.0</td>\n    </tr>\n    <tr>\n      <th>Bradford</th>\n      <td>2020</td>\n      <td>28725.0</td>\n    </tr>\n    <tr>\n      <th>Brevard</th>\n      <td>2020</td>\n      <td>606671.0</td>\n    </tr>\n  </tbody>\n</table>\n</div>"
     },
     "metadata": {},
     "execution_count": 9
    }
   ],
   "source": [
    "# Read in CSV\n",
    "fl_2020_pop = pd.read_excel(\"static/data/fl_2020_pop_estimates-Revised-v2.xlsx\", header=2)\n",
    "\n",
    "# Drop all rows with NA\n",
    "fl_2020_pop = fl_2020_pop.dropna()\n",
    "\n",
    "# Drop the city rows and keep just county totals\n",
    "fl_2020_pop = fl_2020_pop[fl_2020_pop.Area.str.contains('County')]\n",
    "\n",
    "# Create new Couty Column by spliting Area\n",
    "fl_2020_pop[\"county\"] = fl_2020_pop[\"Area\"].str.split(' ').str[0]\n",
    "\n",
    "# Drop unnecessary columns, rename Headers, set index to county\n",
    "fl_2020_pop = fl_2020_pop.drop(columns = ['Area','Total Change', 'Census', 'Inmates', 'Inmates.1'])\n",
    "fl_2020_pop = fl_2020_pop.rename(columns = {'Population Estimate':'population'})\n",
    "fl_2020_pop = fl_2020_pop.set_index(['county'])\n",
    "\n",
    "# Add year column and reorder columns\n",
    "fl_2020_pop['year'] = \"2020\"\n",
    "\n",
    "fl_2020_pop = fl_2020_pop[['year', 'population']]\n",
    "\n",
    "fl_2020_pop.head()"
   ]
  },
  {
   "cell_type": "code",
   "execution_count": 32,
   "metadata": {},
   "outputs": [
    {
     "output_type": "execute_result",
     "data": {
      "text/plain": [
       "            year population income\n",
       "county                            \n",
       "Alachua     2018     269956  49332\n",
       "Alachua     2019     269043  47507\n",
       "Alachua     2020     271588    NaN\n",
       "Baker       2018      28355  47505\n",
       "Baker       2019      29210  55713\n",
       "...          ...        ...    ...\n",
       "Walton      2019      74071  57485\n",
       "Walton      2020      74724    NaN\n",
       "Washington  2018      24880  35230\n",
       "Washington  2019      25473  38404\n",
       "Washington  2020      25334    NaN\n",
       "\n",
       "[201 rows x 3 columns]"
      ],
      "text/html": "<div>\n<style scoped>\n    .dataframe tbody tr th:only-of-type {\n        vertical-align: middle;\n    }\n\n    .dataframe tbody tr th {\n        vertical-align: top;\n    }\n\n    .dataframe thead th {\n        text-align: right;\n    }\n</style>\n<table border=\"1\" class=\"dataframe\">\n  <thead>\n    <tr style=\"text-align: right;\">\n      <th></th>\n      <th>year</th>\n      <th>population</th>\n      <th>income</th>\n    </tr>\n    <tr>\n      <th>county</th>\n      <th></th>\n      <th></th>\n      <th></th>\n    </tr>\n  </thead>\n  <tbody>\n    <tr>\n      <th>Alachua</th>\n      <td>2018</td>\n      <td>269956</td>\n      <td>49332</td>\n    </tr>\n    <tr>\n      <th>Alachua</th>\n      <td>2019</td>\n      <td>269043</td>\n      <td>47507</td>\n    </tr>\n    <tr>\n      <th>Alachua</th>\n      <td>2020</td>\n      <td>271588</td>\n      <td>NaN</td>\n    </tr>\n    <tr>\n      <th>Baker</th>\n      <td>2018</td>\n      <td>28355</td>\n      <td>47505</td>\n    </tr>\n    <tr>\n      <th>Baker</th>\n      <td>2019</td>\n      <td>29210</td>\n      <td>55713</td>\n    </tr>\n    <tr>\n      <th>...</th>\n      <td>...</td>\n      <td>...</td>\n      <td>...</td>\n    </tr>\n    <tr>\n      <th>Walton</th>\n      <td>2019</td>\n      <td>74071</td>\n      <td>57485</td>\n    </tr>\n    <tr>\n      <th>Walton</th>\n      <td>2020</td>\n      <td>74724</td>\n      <td>NaN</td>\n    </tr>\n    <tr>\n      <th>Washington</th>\n      <td>2018</td>\n      <td>24880</td>\n      <td>35230</td>\n    </tr>\n    <tr>\n      <th>Washington</th>\n      <td>2019</td>\n      <td>25473</td>\n      <td>38404</td>\n    </tr>\n    <tr>\n      <th>Washington</th>\n      <td>2020</td>\n      <td>25334</td>\n      <td>NaN</td>\n    </tr>\n  </tbody>\n</table>\n<p>201 rows × 3 columns</p>\n</div>"
     },
     "metadata": {},
     "execution_count": 32
    }
   ],
   "source": [
    "fl_combined_demo = pd.concat([fl_2018_demo, fl_2019_demo,fl_2020_pop])\n",
    "\n",
    "fl_combined_demo = fl_combined_demo.sort_index()\n",
    "\n",
    "fl_combined_demo"
   ]
  }
 ]
}