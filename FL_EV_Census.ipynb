{
 "metadata": {
  "language_info": {
   "codemirror_mode": {
    "name": "ipython",
    "version": 3
   },
   "file_extension": ".py",
   "mimetype": "text/x-python",
   "name": "python",
   "nbconvert_exporter": "python",
   "pygments_lexer": "ipython3",
   "version": "3.8.5"
  },
  "orig_nbformat": 2,
  "kernelspec": {
   "name": "python385jvsc74a57bd00cfdad5e626f31b4955989c38978bf1f5325b415a10b52ea84b38c33ed3e8b7b",
   "display_name": "Python 3.8.5 64-bit ('base': conda)"
  }
 },
 "nbformat": 4,
 "nbformat_minor": 2,
 "cells": [
  {
   "cell_type": "code",
   "execution_count": 1,
   "metadata": {},
   "outputs": [],
   "source": [
    "# Dependencies\n",
    "import pandas as pd\n",
    "import json\n",
    "import requests "
   ]
  },
  {
   "cell_type": "code",
   "execution_count": 69,
   "metadata": {},
   "outputs": [
    {
     "output_type": "execute_result",
     "data": {
      "text/plain": [
       "         Population_2018\n",
       "County                  \n",
       "Alachua           269956\n",
       "Baker              28355\n",
       "Bay               185287\n",
       "Bradford           27732\n",
       "Brevard           596849"
      ],
      "text/html": "<div>\n<style scoped>\n    .dataframe tbody tr th:only-of-type {\n        vertical-align: middle;\n    }\n\n    .dataframe tbody tr th {\n        vertical-align: top;\n    }\n\n    .dataframe thead th {\n        text-align: right;\n    }\n</style>\n<table border=\"1\" class=\"dataframe\">\n  <thead>\n    <tr style=\"text-align: right;\">\n      <th></th>\n      <th>Population_2018</th>\n    </tr>\n    <tr>\n      <th>County</th>\n      <th></th>\n    </tr>\n  </thead>\n  <tbody>\n    <tr>\n      <th>Alachua</th>\n      <td>269956</td>\n    </tr>\n    <tr>\n      <th>Baker</th>\n      <td>28355</td>\n    </tr>\n    <tr>\n      <th>Bay</th>\n      <td>185287</td>\n    </tr>\n    <tr>\n      <th>Bradford</th>\n      <td>27732</td>\n    </tr>\n    <tr>\n      <th>Brevard</th>\n      <td>596849</td>\n    </tr>\n  </tbody>\n</table>\n</div>"
     },
     "metadata": {},
     "execution_count": 69
    }
   ],
   "source": [
    "# 2018 Census Population URL\n",
    "pop_2018_url = \"https://api.census.gov/data/2018/pep/population?get=DATE_DESC,POP,GEONAME,STATE&for=county:*\"\n",
    "\n",
    "#Request data in json and store variable\n",
    "pop_2018_response = requests.get(pop_2018_url)\n",
    "pop_2018_data = pop_2018_response.json()\n",
    "\n",
    "# Create list to store values for the census data\n",
    "date_desc = []\n",
    "pop = []\n",
    "name = []\n",
    "state = []\n",
    "county = []\n",
    "\n",
    "# Loop through data and append list\n",
    "for items in pop_2018_data:\n",
    "    date_desc.append(items[0])\n",
    "    pop.append(items[1])\n",
    "    name.append(items[2])\n",
    "    state.append(items[3])\n",
    "    county.append(items[4])\n",
    "\n",
    "# Create dataframe from list\n",
    "pop_2018_df = pd.DataFrame({\"Date\":date_desc, \"Population_2018\":pop, \"County & State\":name, \n",
    "                        \"State ID\":state, \"County ID\":county})\n",
    "\n",
    "# Clean up Date Column and Split the County and State\n",
    "pop_2018_df[\"Date\"] = pop_2018_df[\"Date\"].str[4:8]\n",
    "pop_2018_df[\"County\"] = pop_2018_df[\"County & State\"].str.split(' ').str[0]\n",
    "\n",
    "# Grab only Florida Counties and Drop unneccessary Columns\n",
    "fl_2018_pop = pop_2018_df[pop_2018_df[\"State ID\"] == \"12\"]\n",
    "fl_2018_pop = fl_2018_pop.drop(columns=['County & State', 'State ID', 'County ID', 'Date'])\n",
    "fl_2018_pop = fl_2018_pop.set_index(['County'])\n",
    "fl_2018_pop.head()"
   ]
  },
  {
   "cell_type": "code",
   "execution_count": 70,
   "metadata": {},
   "outputs": [
    {
     "output_type": "execute_result",
     "data": {
      "text/plain": [
       "           Population_2019\n",
       "County                    \n",
       "Washington           25473\n",
       "Duval               957755\n",
       "Bradford             28201\n",
       "Brevard             601942\n",
       "Clay                219252"
      ],
      "text/html": "<div>\n<style scoped>\n    .dataframe tbody tr th:only-of-type {\n        vertical-align: middle;\n    }\n\n    .dataframe tbody tr th {\n        vertical-align: top;\n    }\n\n    .dataframe thead th {\n        text-align: right;\n    }\n</style>\n<table border=\"1\" class=\"dataframe\">\n  <thead>\n    <tr style=\"text-align: right;\">\n      <th></th>\n      <th>Population_2019</th>\n    </tr>\n    <tr>\n      <th>County</th>\n      <th></th>\n    </tr>\n  </thead>\n  <tbody>\n    <tr>\n      <th>Washington</th>\n      <td>25473</td>\n    </tr>\n    <tr>\n      <th>Duval</th>\n      <td>957755</td>\n    </tr>\n    <tr>\n      <th>Bradford</th>\n      <td>28201</td>\n    </tr>\n    <tr>\n      <th>Brevard</th>\n      <td>601942</td>\n    </tr>\n    <tr>\n      <th>Clay</th>\n      <td>219252</td>\n    </tr>\n  </tbody>\n</table>\n</div>"
     },
     "metadata": {},
     "execution_count": 70
    }
   ],
   "source": [
    "# 2019 Census Population URL\n",
    "pop_2019_url = \"https://api.census.gov/data/2019/pep/population?get=DATE_DESC,POP,NAME,STATE&for=county:*\"\n",
    "\n",
    "#Request data in json and store variable\n",
    "pop_2019_response = requests.get(pop_2019_url)\n",
    "pop_2019_data = pop_2019_response.json()\n",
    "\n",
    "# Create list to store values for the census data\n",
    "date_desc = []\n",
    "pop = []\n",
    "name = []\n",
    "state = []\n",
    "county = []\n",
    "\n",
    "# Loop through data and append list\n",
    "for items in pop_2019_data:\n",
    "    date_desc.append(items[0])\n",
    "    pop.append(items[1])\n",
    "    name.append(items[2])\n",
    "    state.append(items[3])\n",
    "    county.append(items[4])\n",
    "\n",
    "# Create dataframe from list\n",
    "pop_2019_df = pd.DataFrame({\"Date\":date_desc, \"Population_2019\":pop, \"County & State\":name, \n",
    "                        \"State ID\":state, \"County ID\":county})\n",
    "\n",
    "# Clean up Date Column and Split the County and State\n",
    "pop_2019_df[\"Date\"] = pop_2019_df[\"Date\"].str[4:8]\n",
    "pop_2019_df[\"County\"] = pop_2019_df[\"County & State\"].str.split(' ').str[0]\n",
    "\n",
    "# Grab only Florida Counties and Drop unneccessary Columns\n",
    "fl_2019_pop = pop_2019_df[pop_2019_df[\"State ID\"] == \"12\"]\n",
    "fl_2019_pop = fl_2019_pop.drop(columns=['County & State', 'State ID', 'County ID', 'Date'])\n",
    "fl_2019_pop = fl_2019_pop.set_index(['County'])\n",
    "fl_2019_pop.head()"
   ]
  },
  {
   "cell_type": "code",
   "execution_count": 71,
   "metadata": {},
   "outputs": [
    {
     "output_type": "execute_result",
     "data": {
      "text/plain": [
       "         Population_2018 Population_2019\n",
       "County                                  \n",
       "Alachua           269956          269043\n",
       "Baker              28355           29210\n",
       "Bay               185287          174705\n",
       "Bradford           27732           28201\n",
       "Brevard           596849          601942"
      ],
      "text/html": "<div>\n<style scoped>\n    .dataframe tbody tr th:only-of-type {\n        vertical-align: middle;\n    }\n\n    .dataframe tbody tr th {\n        vertical-align: top;\n    }\n\n    .dataframe thead th {\n        text-align: right;\n    }\n</style>\n<table border=\"1\" class=\"dataframe\">\n  <thead>\n    <tr style=\"text-align: right;\">\n      <th></th>\n      <th>Population_2018</th>\n      <th>Population_2019</th>\n    </tr>\n    <tr>\n      <th>County</th>\n      <th></th>\n      <th></th>\n    </tr>\n  </thead>\n  <tbody>\n    <tr>\n      <th>Alachua</th>\n      <td>269956</td>\n      <td>269043</td>\n    </tr>\n    <tr>\n      <th>Baker</th>\n      <td>28355</td>\n      <td>29210</td>\n    </tr>\n    <tr>\n      <th>Bay</th>\n      <td>185287</td>\n      <td>174705</td>\n    </tr>\n    <tr>\n      <th>Bradford</th>\n      <td>27732</td>\n      <td>28201</td>\n    </tr>\n    <tr>\n      <th>Brevard</th>\n      <td>596849</td>\n      <td>601942</td>\n    </tr>\n  </tbody>\n</table>\n</div>"
     },
     "metadata": {},
     "execution_count": 71
    }
   ],
   "source": [
    "fl_combined_pop = fl_2018_pop.merge(fl_2019_pop, on=\"County\")\n",
    "fl_combined_pop.head()"
   ]
  },
  {
   "cell_type": "code",
   "execution_count": 72,
   "metadata": {},
   "outputs": [
    {
     "output_type": "execute_result",
     "data": {
      "text/plain": [
       "         MHI_90_2018 MHI_MOE_2018 MHI_EST_2018\n",
       "County                                        \n",
       "Alachua        49332         1694        51026\n",
       "Baker          47505         5299        52804\n",
       "Bay            49023         2754        51777\n",
       "Bradford       40499         4576        45075\n",
       "Brevard        55343         2269        57612"
      ],
      "text/html": "<div>\n<style scoped>\n    .dataframe tbody tr th:only-of-type {\n        vertical-align: middle;\n    }\n\n    .dataframe tbody tr th {\n        vertical-align: top;\n    }\n\n    .dataframe thead th {\n        text-align: right;\n    }\n</style>\n<table border=\"1\" class=\"dataframe\">\n  <thead>\n    <tr style=\"text-align: right;\">\n      <th></th>\n      <th>MHI_90_2018</th>\n      <th>MHI_MOE_2018</th>\n      <th>MHI_EST_2018</th>\n    </tr>\n    <tr>\n      <th>County</th>\n      <th></th>\n      <th></th>\n      <th></th>\n    </tr>\n  </thead>\n  <tbody>\n    <tr>\n      <th>Alachua</th>\n      <td>49332</td>\n      <td>1694</td>\n      <td>51026</td>\n    </tr>\n    <tr>\n      <th>Baker</th>\n      <td>47505</td>\n      <td>5299</td>\n      <td>52804</td>\n    </tr>\n    <tr>\n      <th>Bay</th>\n      <td>49023</td>\n      <td>2754</td>\n      <td>51777</td>\n    </tr>\n    <tr>\n      <th>Bradford</th>\n      <td>40499</td>\n      <td>4576</td>\n      <td>45075</td>\n    </tr>\n    <tr>\n      <th>Brevard</th>\n      <td>55343</td>\n      <td>2269</td>\n      <td>57612</td>\n    </tr>\n  </tbody>\n</table>\n</div>"
     },
     "metadata": {},
     "execution_count": 72
    }
   ],
   "source": [
    "# Median Household Income\n",
    "mhi_2018_url = \"https://api.census.gov/data/timeseries/poverty/saipe?get=NAME,SAEMHI_LB90,SAEMHI_MOE,SAEMHI_PT&for=county:*&YEAR=2018\"\n",
    "\n",
    "#Request data in json and store variable\n",
    "mhi_2018_response = requests.get(mhi_2018_url)\n",
    "mhi_2018_data = mhi_2018_response.json()\n",
    "\n",
    "# Create list to store values for the census data\n",
    "county = []\n",
    "mhi_90 = [] #Median Household Income Lower Bound for 90% Confidence Interval\n",
    "mhi_moe = [] #Median Household Income Margin of Error\n",
    "mhi_est = [] #Median Household Income Estimate\n",
    "year = []\n",
    "state = []\n",
    "countyID = []\n",
    "\n",
    "# Loop through data and append list\n",
    "for items in mhi_2018_data:\n",
    "    county.append(items[0])\n",
    "    mhi_90.append(items[1])\n",
    "    mhi_moe.append(items[2])\n",
    "    mhi_est.append(items[3])\n",
    "    year.append(items[4])\n",
    "    state.append(items[5])\n",
    "    countyID.append(items[6])\n",
    "\n",
    "# Create dataframe from list\n",
    "mhi_2018_df = pd.DataFrame({\"County\":county, \"MHI_90_2018\": mhi_90, \"MHI_MOE_2018\": mhi_moe,\n",
    "                            \"MHI_EST_2018\":mhi_est, \"State ID\":state})\n",
    "\n",
    "mhi_2018_df[\"County\"] = mhi_2018_df[\"County\"].str.split(' ').str[0]\n",
    "\n",
    "# Grab only Florida Counties and Drop unneccessary Columns\n",
    "fl_2018_mhi = mhi_2018_df[mhi_2018_df[\"State ID\"] == \"12\"]\n",
    "fl_2018_mhi = fl_2018_mhi.drop(columns=['State ID'])\n",
    "fl_2018_mhi = fl_2018_mhi.set_index(['County'])\n",
    "fl_2018_mhi.head()"
   ]
  },
  {
   "cell_type": "code",
   "execution_count": 73,
   "metadata": {},
   "outputs": [
    {
     "output_type": "execute_result",
     "data": {
      "text/plain": [
       "         MHI_90_2019 MHI_MOE_2019 MHI_EST_2019\n",
       "County                                        \n",
       "Alachua        47507         2373        49880\n",
       "Baker          55713         4741        60454\n",
       "Bay            55318         3058        58376\n",
       "Bradford       42134         5375        47509\n",
       "Brevard        55030         2552        57582"
      ],
      "text/html": "<div>\n<style scoped>\n    .dataframe tbody tr th:only-of-type {\n        vertical-align: middle;\n    }\n\n    .dataframe tbody tr th {\n        vertical-align: top;\n    }\n\n    .dataframe thead th {\n        text-align: right;\n    }\n</style>\n<table border=\"1\" class=\"dataframe\">\n  <thead>\n    <tr style=\"text-align: right;\">\n      <th></th>\n      <th>MHI_90_2019</th>\n      <th>MHI_MOE_2019</th>\n      <th>MHI_EST_2019</th>\n    </tr>\n    <tr>\n      <th>County</th>\n      <th></th>\n      <th></th>\n      <th></th>\n    </tr>\n  </thead>\n  <tbody>\n    <tr>\n      <th>Alachua</th>\n      <td>47507</td>\n      <td>2373</td>\n      <td>49880</td>\n    </tr>\n    <tr>\n      <th>Baker</th>\n      <td>55713</td>\n      <td>4741</td>\n      <td>60454</td>\n    </tr>\n    <tr>\n      <th>Bay</th>\n      <td>55318</td>\n      <td>3058</td>\n      <td>58376</td>\n    </tr>\n    <tr>\n      <th>Bradford</th>\n      <td>42134</td>\n      <td>5375</td>\n      <td>47509</td>\n    </tr>\n    <tr>\n      <th>Brevard</th>\n      <td>55030</td>\n      <td>2552</td>\n      <td>57582</td>\n    </tr>\n  </tbody>\n</table>\n</div>"
     },
     "metadata": {},
     "execution_count": 73
    }
   ],
   "source": [
    "# Median Household Income\n",
    "mhi_2019_url = \"https://api.census.gov/data/timeseries/poverty/saipe?get=NAME,SAEMHI_LB90,SAEMHI_MOE,SAEMHI_PT&for=county:*&YEAR=2019\"\n",
    "\n",
    "#Request data in json and store variable\n",
    "mhi_2019_response = requests.get(mhi_2019_url)\n",
    "mhi_2019_data = mhi_2019_response.json()\n",
    "\n",
    "# Create list to store values for the census data\n",
    "county = []\n",
    "mhi_90 = [] #Median Household Income Lower Bound for 90% Confidence Interval\n",
    "mhi_moe = [] #Median Household Income Margin of Error\n",
    "mhi_est = [] #Median Household Income Estimate\n",
    "year = []\n",
    "state = []\n",
    "countyID = []\n",
    "\n",
    "# Loop through data and append list\n",
    "for items in mhi_2019_data:\n",
    "    county.append(items[0])\n",
    "    mhi_90.append(items[1])\n",
    "    mhi_moe.append(items[2])\n",
    "    mhi_est.append(items[3])\n",
    "    year.append(items[4])\n",
    "    state.append(items[5])\n",
    "    countyID.append(items[6])\n",
    "\n",
    "# Create dataframe from list\n",
    "mhi_2019_df = pd.DataFrame({\"County\":county, \"MHI_90_2019\": mhi_90, \"MHI_MOE_2019\": mhi_moe,\n",
    "                            \"MHI_EST_2019\":mhi_est, \"State ID\":state})\n",
    "\n",
    "mhi_2019_df[\"County\"] = mhi_2019_df[\"County\"].str.split(' ').str[0]\n",
    "\n",
    "# Grab only Florida Counties and Drop unneccessary Columns\n",
    "fl_2019_mhi = mhi_2019_df[mhi_2019_df[\"State ID\"] == \"12\"]\n",
    "fl_2019_mhi = fl_2019_mhi.drop(columns=['State ID'])\n",
    "fl_2019_mhi = fl_2019_mhi.set_index(['County'])\n",
    "fl_2019_mhi.head()"
   ]
  },
  {
   "cell_type": "code",
   "execution_count": 74,
   "metadata": {},
   "outputs": [
    {
     "output_type": "execute_result",
     "data": {
      "text/plain": [
       "         MHI_90_2018 MHI_MOE_2018 MHI_EST_2018 MHI_90_2019 MHI_MOE_2019  \\\n",
       "County                                                                    \n",
       "Alachua        49332         1694        51026       47507         2373   \n",
       "Baker          47505         5299        52804       55713         4741   \n",
       "Bay            49023         2754        51777       55318         3058   \n",
       "Bradford       40499         4576        45075       42134         5375   \n",
       "Brevard        55343         2269        57612       55030         2552   \n",
       "\n",
       "         MHI_EST_2019  \n",
       "County                 \n",
       "Alachua         49880  \n",
       "Baker           60454  \n",
       "Bay             58376  \n",
       "Bradford        47509  \n",
       "Brevard         57582  "
      ],
      "text/html": "<div>\n<style scoped>\n    .dataframe tbody tr th:only-of-type {\n        vertical-align: middle;\n    }\n\n    .dataframe tbody tr th {\n        vertical-align: top;\n    }\n\n    .dataframe thead th {\n        text-align: right;\n    }\n</style>\n<table border=\"1\" class=\"dataframe\">\n  <thead>\n    <tr style=\"text-align: right;\">\n      <th></th>\n      <th>MHI_90_2018</th>\n      <th>MHI_MOE_2018</th>\n      <th>MHI_EST_2018</th>\n      <th>MHI_90_2019</th>\n      <th>MHI_MOE_2019</th>\n      <th>MHI_EST_2019</th>\n    </tr>\n    <tr>\n      <th>County</th>\n      <th></th>\n      <th></th>\n      <th></th>\n      <th></th>\n      <th></th>\n      <th></th>\n    </tr>\n  </thead>\n  <tbody>\n    <tr>\n      <th>Alachua</th>\n      <td>49332</td>\n      <td>1694</td>\n      <td>51026</td>\n      <td>47507</td>\n      <td>2373</td>\n      <td>49880</td>\n    </tr>\n    <tr>\n      <th>Baker</th>\n      <td>47505</td>\n      <td>5299</td>\n      <td>52804</td>\n      <td>55713</td>\n      <td>4741</td>\n      <td>60454</td>\n    </tr>\n    <tr>\n      <th>Bay</th>\n      <td>49023</td>\n      <td>2754</td>\n      <td>51777</td>\n      <td>55318</td>\n      <td>3058</td>\n      <td>58376</td>\n    </tr>\n    <tr>\n      <th>Bradford</th>\n      <td>40499</td>\n      <td>4576</td>\n      <td>45075</td>\n      <td>42134</td>\n      <td>5375</td>\n      <td>47509</td>\n    </tr>\n    <tr>\n      <th>Brevard</th>\n      <td>55343</td>\n      <td>2269</td>\n      <td>57612</td>\n      <td>55030</td>\n      <td>2552</td>\n      <td>57582</td>\n    </tr>\n  </tbody>\n</table>\n</div>"
     },
     "metadata": {},
     "execution_count": 74
    }
   ],
   "source": [
    "fl_combined_mhi = fl_2018_mhi.merge(fl_2019_mhi, on='County')\n",
    "\n",
    "fl_combined_mhi.head()"
   ]
  },
  {
   "cell_type": "code",
   "execution_count": null,
   "metadata": {},
   "outputs": [],
   "source": []
  }
 ]
}